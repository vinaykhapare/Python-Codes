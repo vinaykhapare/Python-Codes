{
 "cells": [
  {
   "cell_type": "markdown",
   "id": "84b2749e-861d-48ba-83ba-2eebe13460ef",
   "metadata": {},
   "source": [
    "Data Preprocessing Tools\n"
   ]
  },
  {
   "cell_type": "code",
   "execution_count": null,
   "id": "4f2fa9f4-5ceb-4af9-a522-daf94838693b",
   "metadata": {
    "scrolled": true
   },
   "outputs": [],
   "source": [
    "# Importing the libraries\n",
    "import numpy as np\n",
    "import pandas as pd"
   ]
  },
  {
   "cell_type": "code",
   "execution_count": null,
   "id": "ca9e0870-2011-45ce-bee2-900e56f25313",
   "metadata": {},
   "outputs": [],
   "source": [
    "# Importing the dataset\n",
    "\n",
    "dataset = pd.read_csv('Data.csv')\n",
    "print(dataset)\n",
    "print(\" \")\n",
    "\n",
    "X = dataset.iloc[ : , :-1].values\n",
    "Y = dataset.iloc[ : ,-1 ].values\n",
    "\n",
    "print(X)\n",
    "print(\" \")\n",
    "print(Y)"
   ]
  },
  {
   "cell_type": "code",
   "execution_count": null,
   "id": "8764314e-6724-48de-b0aa-add32bad265d",
   "metadata": {},
   "outputs": [],
   "source": [
    "#Taking care of missing datas\n",
    "from sklearn.impute import SimpleImputer\n",
    "imputer = SimpleImputer(missing_values=np.nan, strategy='mean')\n",
    "imputer.fit(X[:, 1:3]) #This method calculates the mean of the columns age and salary by fitting.\n",
    "X[ : , 1:3 ] = imputer.transform(X[ : , 1 : 3 ]) \n",
    "#transforms the data by replacing the missing values in the selected columns (columns 1 and 2) \n",
    "#with the corresponding means that were calculated during the fit step\n",
    "print(X)"
   ]
  },
  {
   "cell_type": "code",
   "execution_count": null,
   "id": "4776b3ff-9c17-44e5-bc5e-c6d20a487980",
   "metadata": {},
   "outputs": [],
   "source": [
    "# Encoding categorical data\n",
    "# Encoding the Independent Variable\n",
    "from sklearn.compose import ColumnTransformer\n",
    "from sklearn.preprocessing import OneHotEncoder\n",
    "\n",
    "\n",
    "ct = ColumnTransformer(transformers=[('encoder', OneHotEncoder(), [0])], remainder='passthrough')#passthough = pecifies what happens to the remaining columns that are not being transformed. By setting it to 'passthrough', you're telling the transformer to leave those columns unchanged.\n",
    "X = np.array(ct.fit_transform(X))\n",
    "print(X)"
   ]
  },
  {
   "cell_type": "code",
   "execution_count": null,
   "id": "1d7c501a-c2f0-445b-a120-5c4cc9964072",
   "metadata": {},
   "outputs": [],
   "source": [
    "from sklearn.preprocessing import LabelEncoder\n",
    "le = LabelEncoder()\n",
    "y = le.fit_transform(Y)\n",
    "print(Y)"
   ]
  },
  {
   "cell_type": "code",
   "execution_count": 30,
   "id": "38fc56f3-418a-4562-b698-7336f8ac1507",
   "metadata": {},
   "outputs": [
    {
     "name": "stdout",
     "output_type": "stream",
     "text": [
      "[[0.0 0.0 1.0 38.77777777777778 52000.0]\n",
      " [1.0 0.0 0.0 40.0 63777.77777777778]\n",
      " [0.0 1.0 0.0 44.0 72000.0]\n",
      " [0.0 0.0 1.0 38.0 61000.0]\n",
      " [0.0 0.0 1.0 27.0 48000.0]\n",
      " [0.0 1.0 0.0 48.0 79000.0]\n",
      " [1.0 0.0 0.0 50.0 83000.0]\n",
      " [0.0 1.0 0.0 35.0 58000.0]]\n",
      "-------------------------\n",
      "[[1.0 0.0 0.0 30.0 54000.0]\n",
      " [0.0 1.0 0.0 37.0 67000.0]]\n",
      "-------------------------\n",
      "['No' 'Yes' 'No' 'No' 'Yes' 'Yes' 'No' 'Yes']\n",
      "-------------------------\n",
      "['No' 'Yes']\n"
     ]
    }
   ],
   "source": [
    "# Splitting the dataset into the Training set and Test set\n",
    "from sklearn.model_selection import train_test_split\n",
    "X_train, X_test, Y_train, Y_test = train_test_split(X, Y, test_size = 0.2, random_state = 1)\n",
    "print(X_train)\n",
    "print(\"-------------------------\")\n",
    "print(X_test)\n",
    "print(\"-------------------------\")\n",
    "print(Y_train)\n",
    "print(\"-------------------------\")\n",
    "print(Y_test)"
   ]
  },
  {
   "cell_type": "code",
   "execution_count": 35,
   "id": "7fa8e140-a1c9-4158-83a8-b28cc417aa41",
   "metadata": {},
   "outputs": [
    {
     "name": "stdout",
     "output_type": "stream",
     "text": [
      "[[0.0 0.0 1.0 -0.1915918438457856 -1.0781259408412427]\n",
      " [1.0 0.0 0.0 -0.014117293757057902 -0.07013167641635401]\n",
      " [0.0 1.0 0.0 0.5667085065333239 0.6335624327104546]\n",
      " [0.0 0.0 1.0 -0.3045301939022488 -0.30786617274297895]\n",
      " [0.0 0.0 1.0 -1.901801144700799 -1.4204636155515822]\n",
      " [0.0 1.0 0.0 1.1475343068237056 1.2326533634535488]\n",
      " [1.0 0.0 0.0 1.4379472069688966 1.5749910381638883]\n",
      " [0.0 1.0 0.0 -0.7401495441200352 -0.5646194287757336]]\n",
      "-------------------------\n",
      "[[1.0 0.0 0.0 -1.4661817944830127 -0.9069571034860731]\n",
      " [0.0 1.0 0.0 -0.44973664397484425 0.20564033932253029]]\n",
      "-------------------------\n"
     ]
    }
   ],
   "source": [
    "# Feature Scaling\n",
    "from sklearn.preprocessing import StandardScaler\n",
    "sc = StandardScaler()\n",
    "print(X_train)\n",
    "print(\"-------------------------\")\n",
    "print(X_test)\n",
    "\n",
    "print(\"-------------------------\")\n",
    "\n",
    "# X_train[:, 3:] = sc.fit_transform(X_train[:, 3:])\n",
    "# X_test[:, 3:] = sc.transform(X_test[:, 3:])\n",
    "# print(X_train)\n",
    "# print(X_test)"
   ]
  },
  {
   "cell_type": "code",
   "execution_count": null,
   "id": "e1d11070-168e-411e-a001-81822207f93e",
   "metadata": {},
   "outputs": [],
   "source": []
  }
 ],
 "metadata": {
  "kernelspec": {
   "display_name": "Python 3 (ipykernel)",
   "language": "python",
   "name": "python3"
  },
  "language_info": {
   "codemirror_mode": {
    "name": "ipython",
    "version": 3
   },
   "file_extension": ".py",
   "mimetype": "text/x-python",
   "name": "python",
   "nbconvert_exporter": "python",
   "pygments_lexer": "ipython3",
   "version": "3.12.4"
  }
 },
 "nbformat": 4,
 "nbformat_minor": 5
}
