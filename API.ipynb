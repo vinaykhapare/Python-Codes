{
 "cells": [
  {
   "cell_type": "code",
   "execution_count": 12,
   "metadata": {},
   "outputs": [
    {
     "name": "stdout",
     "output_type": "stream",
     "text": [
      "{\n",
      "    \"coord\": {\n",
      "        \"lon\": 72.8479,\n",
      "        \"lat\": 19.0144\n",
      "    },\n",
      "    \"weather\": [\n",
      "        {\n",
      "            \"id\": 721,\n",
      "            \"main\": \"Haze\",\n",
      "            \"description\": \"haze\",\n",
      "            \"icon\": \"50d\"\n",
      "        }\n",
      "    ],\n",
      "    \"base\": \"stations\",\n",
      "    \"main\": {\n",
      "        \"temp\": 301.14,\n",
      "        \"feels_like\": 304.92,\n",
      "        \"temp_min\": 301.09,\n",
      "        \"temp_max\": 301.14,\n",
      "        \"pressure\": 1005,\n",
      "        \"humidity\": 78,\n",
      "        \"sea_level\": 1005,\n",
      "        \"grnd_level\": 1004\n",
      "    },\n",
      "    \"visibility\": 3000,\n",
      "    \"wind\": {\n",
      "        \"speed\": 4.63,\n",
      "        \"deg\": 240\n",
      "    },\n",
      "    \"clouds\": {\n",
      "        \"all\": 75\n",
      "    },\n",
      "    \"dt\": 1722577300,\n",
      "    \"sys\": {\n",
      "        \"type\": 1,\n",
      "        \"id\": 9052,\n",
      "        \"country\": \"IN\",\n",
      "        \"sunrise\": 1722559550,\n",
      "        \"sunset\": 1722606227\n",
      "    },\n",
      "    \"timezone\": 19800,\n",
      "    \"id\": 1275339,\n",
      "    \"name\": \"Mumbai\",\n",
      "    \"cod\": 200\n",
      "}\n"
     ]
    }
   ],
   "source": [
    "import requests\n",
    "import json\n",
    "\n",
    "API_key=\"d1b46e2e5608717fa6e350a2c9d6f041\"\n",
    "city=\"mumbai\"\n",
    "url=f'https://api.openweathermap.org/data/2.5/weather?q={city}&appid={API_key}'  \n",
    "response=requests.get(url)\n",
    "data=response.json()\n",
    "print(json.dumps(data,indent=4))"
   ]
  },
  {
   "cell_type": "code",
   "execution_count": 9,
   "metadata": {},
   "outputs": [
    {
     "data": {
      "text/plain": [
       "0               NaN\n",
       "1               NaN\n",
       "2               NaN\n",
       "3               NaN\n",
       "4               NaN\n",
       "           ...     \n",
       "3003    6.205390253\n",
       "3004    5.198931395\n",
       "3005     6.33967756\n",
       "3006    5.386196747\n",
       "3007    6.795945687\n",
       "Name: Value (Actual), Length: 3008, dtype: object"
      ]
     },
     "execution_count": 9,
     "metadata": {},
     "output_type": "execute_result"
    }
   ],
   "source": [
    "import pandas as pd\n",
    "df=pd.read_csv('MusicData.csv')\n",
    "df\n",
    "x=df.iloc[: , :-1]\n",
    "y=df.iloc[ : , -1]\n",
    "x\n",
    "y"
   ]
  },
  {
   "cell_type": "code",
   "execution_count": null,
   "metadata": {},
   "outputs": [],
   "source": []
  }
 ],
 "metadata": {
  "kernelspec": {
   "display_name": "Python 3",
   "language": "python",
   "name": "python3"
  },
  "language_info": {
   "codemirror_mode": {
    "name": "ipython",
    "version": 3
   },
   "file_extension": ".py",
   "mimetype": "text/x-python",
   "name": "python",
   "nbconvert_exporter": "python",
   "pygments_lexer": "ipython3",
   "version": "3.8.5"
  }
 },
 "nbformat": 4,
 "nbformat_minor": 4
}
