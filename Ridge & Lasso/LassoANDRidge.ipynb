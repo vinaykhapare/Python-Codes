{
 "cells": [
  {
   "cell_type": "markdown",
   "id": "c72e083f-34f4-46d6-94d3-59faafb4a6b4",
   "metadata": {},
   "source": [
    "Implementation of Polynomial Regression Model (Lasso  and Ridge regression)"
   ]
  },
  {
   "cell_type": "code",
   "execution_count": 21,
   "id": "e1923719-8739-4660-b278-f74e9e71409e",
   "metadata": {},
   "outputs": [],
   "source": [
    "import numpy as np#Used for numerical operations\n",
    "import matplotlib.pyplot as plt  #To visualize the results.\n",
    "from sklearn.preprocessing import PolynomialFeatures# To generate polynomial features from the input data.\n",
    "from sklearn.linear_model import Ridge, Lasso# The two regularization methods.\n",
    "from sklearn.model_selection import train_test_split # To split the dataset into training and test sets.\n",
    "from sklearn.metrics import mean_squared_error  # To evaluate the model's performance"
   ]
  },
  {
   "cell_type": "markdown",
   "id": "eb2fb3cd-2fad-4635-bbb4-f8b61ed08fb8",
   "metadata": {},
   "source": [
    "generate a dataset"
   ]
  },
  {
   "cell_type": "code",
   "execution_count": 15,
   "id": "47453943-5857-4082-8464-68e130b175a6",
   "metadata": {},
   "outputs": [
    {
     "data": {
      "text/plain": [
       "array([[-3.29215704],\n",
       "       [ 0.79952837],\n",
       "       [-0.93621395],\n",
       "       [-4.7226796 ],\n",
       "       [-3.60267397],\n",
       "       [ 4.93183364],\n",
       "       [-0.85026525],\n",
       "       [ 2.45407162],\n",
       "       [ 2.30965656],\n",
       "       [ 0.76820449],\n",
       "       [ 1.56786929],\n",
       "       [-2.36282052],\n",
       "       [-0.28311318],\n",
       "       [ 1.63497495],\n",
       "       [ 0.6684103 ],\n",
       "       [ 0.99897702],\n",
       "       [-2.48223722],\n",
       "       [ 2.61547479],\n",
       "       [ 1.0607969 ],\n",
       "       [ 4.56228722],\n",
       "       [ 9.65896945],\n",
       "       [ 0.03914421],\n",
       "       [-0.5933086 ],\n",
       "       [ 4.22649506],\n",
       "       [-4.80926387],\n",
       "       [ 6.36309702],\n",
       "       [ 1.86272445],\n",
       "       [ 2.56155155],\n",
       "       [-2.59833764],\n",
       "       [-2.40807631],\n",
       "       [ 1.53515772],\n",
       "       [ 0.86551244],\n",
       "       [ 4.66335724],\n",
       "       [ 7.9423894 ],\n",
       "       [ 3.04373645],\n",
       "       [ 1.53095309],\n",
       "       [-1.69087204],\n",
       "       [-1.60713955],\n",
       "       [ 3.16198045],\n",
       "       [ 2.90690825],\n",
       "       [ 5.1456589 ],\n",
       "       [ 6.26005381],\n",
       "       [ 7.11881057],\n",
       "       [-3.85232619],\n",
       "       [ 3.52895655],\n",
       "       [ 3.3142229 ],\n",
       "       [ 5.75838608],\n",
       "       [-0.33247107],\n",
       "       [ 6.84169354],\n",
       "       [ 2.63822084],\n",
       "       [ 4.68639968],\n",
       "       [ 0.83929251],\n",
       "       [ 3.53241541],\n",
       "       [ 5.54189655],\n",
       "       [ 2.08454669],\n",
       "       [ 0.71500439],\n",
       "       [ 1.80044833],\n",
       "       [ 1.09258431],\n",
       "       [ 3.90296628],\n",
       "       [ 3.0882235 ],\n",
       "       [ 4.01738134],\n",
       "       [ 3.07865948],\n",
       "       [ 4.43943885],\n",
       "       [ 7.17884781],\n",
       "       [ 1.46772157],\n",
       "       [ 3.20534281],\n",
       "       [ 6.89059504],\n",
       "       [ 0.61165323],\n",
       "       [ 4.72189509],\n",
       "       [ 1.84416381],\n",
       "       [-0.18727169],\n",
       "       [ 1.61305127],\n",
       "       [-1.41820205],\n",
       "       [ 5.70447746],\n",
       "       [ 0.79297508],\n",
       "       [ 4.05443027],\n",
       "       [ 4.61239145],\n",
       "       [ 3.73654899],\n",
       "       [ 2.9346576 ],\n",
       "       [ 1.83150397],\n",
       "       [ 5.49544952],\n",
       "       [-0.70247946],\n",
       "       [ 0.60301268],\n",
       "       [ 6.60873106],\n",
       "       [-2.46475658],\n",
       "       [-3.68766753],\n",
       "       [-1.53633871],\n",
       "       [ 2.53977451],\n",
       "       [ 5.21225786],\n",
       "       [-1.16335518],\n",
       "       [ 3.20953084],\n",
       "       [-1.66733521],\n",
       "       [ 1.37517507],\n",
       "       [-0.92991711],\n",
       "       [ 0.93090081],\n",
       "       [-0.1197195 ],\n",
       "       [ 1.96849994],\n",
       "       [-3.35761148],\n",
       "       [ 1.61926372],\n",
       "       [ 0.79403191]])"
      ]
     },
     "execution_count": 15,
     "metadata": {},
     "output_type": "execute_result"
    }
   ],
   "source": [
    "np.random.seed(0)  # To ensure reproducibility\n",
    "X = 2 - 3 * np.random.normal(0, 1, 100)\n",
    "y = X - 2 * (X ** 2) + np.random.normal(-3, 3, 100)\n",
    "X = X[:, np.newaxis]  # Reshaping to make it a 2D array\n",
    "X"
   ]
  },
  {
   "cell_type": "markdown",
   "id": "7d19a2c6-dbcf-4408-9db5-2fcb4b70755f",
   "metadata": {},
   "source": [
    "Tarining and tasting data "
   ]
  },
  {
   "cell_type": "code",
   "execution_count": 27,
   "id": "c353ffaf-1f7d-4a49-9b41-2e23ce801533",
   "metadata": {},
   "outputs": [
    {
     "name": "stdout",
     "output_type": "stream",
     "text": [
      "[[ 1.86272445]\n",
      " [-1.53633871]\n",
      " [-0.93621395]\n",
      " [ 0.71500439]\n",
      " [ 4.05443027]\n",
      " [-0.92991711]\n",
      " [-2.48223722]\n",
      " [ 5.70447746]\n",
      " [ 2.08454669]\n",
      " [-0.1197195 ]\n",
      " [ 5.54189655]\n",
      " [ 1.37517507]\n",
      " [ 2.9346576 ]\n",
      " [ 1.63497495]\n",
      " [ 2.45407162]\n",
      " [ 1.53515772]\n",
      " [-0.5933086 ]\n",
      " [-4.80926387]\n",
      " [ 7.9423894 ]\n",
      " [ 2.30965656]]\n",
      "____\n",
      "[[-3.85232619]\n",
      " [ 4.43943885]\n",
      " [-4.7226796 ]\n",
      " [ 1.61305127]\n",
      " [ 3.3142229 ]\n",
      " [ 6.84169354]\n",
      " [-0.85026525]\n",
      " [ 0.79403191]\n",
      " [ 0.60301268]\n",
      " [ 4.61239145]\n",
      " [ 4.01738134]\n",
      " [ 5.49544952]\n",
      " [ 3.20953084]\n",
      " [ 4.72189509]\n",
      " [ 0.83929251]\n",
      " [ 2.56155155]\n",
      " [ 1.0607969 ]\n",
      " [ 1.80044833]\n",
      " [ 7.17884781]\n",
      " [ 0.79297508]\n",
      " [ 0.79952837]\n",
      " [ 3.07865948]\n",
      " [ 7.11881057]\n",
      " [ 6.26005381]\n",
      " [-3.60267397]\n",
      " [ 0.99897702]\n",
      " [ 2.61547479]\n",
      " [ 5.1456589 ]\n",
      " [ 3.16198045]\n",
      " [ 4.93183364]\n",
      " [-1.66733521]\n",
      " [ 3.0882235 ]\n",
      " [-3.29215704]\n",
      " [ 3.04373645]\n",
      " [-2.59833764]\n",
      " [ 4.68639968]\n",
      " [-2.36282052]\n",
      " [ 1.53095309]\n",
      " [ 4.22649506]\n",
      " [ 3.53241541]\n",
      " [ 1.56786929]\n",
      " [ 0.86551244]\n",
      " [ 6.89059504]\n",
      " [ 1.09258431]\n",
      " [ 1.83150397]\n",
      " [-3.68766753]\n",
      " [ 4.66335724]\n",
      " [-2.46475658]\n",
      " [ 0.6684103 ]\n",
      " [-1.16335518]\n",
      " [ 4.56228722]\n",
      " [-2.40807631]\n",
      " [ 2.63822084]\n",
      " [-3.35761148]\n",
      " [ 1.61926372]\n",
      " [ 1.84416381]\n",
      " [ 9.65896945]\n",
      " [ 0.93090081]\n",
      " [-1.41820205]\n",
      " [ 3.73654899]\n",
      " [ 6.36309702]\n",
      " [-1.60713955]\n",
      " [-0.70247946]\n",
      " [ 5.75838608]\n",
      " [ 2.90690825]\n",
      " [ 3.20534281]\n",
      " [ 3.90296628]\n",
      " [-0.28311318]\n",
      " [ 5.21225786]\n",
      " [-0.18727169]\n",
      " [ 2.53977451]\n",
      " [-1.69087204]\n",
      " [ 0.03914421]\n",
      " [ 6.60873106]\n",
      " [ 0.76820449]\n",
      " [ 1.96849994]\n",
      " [ 0.61165323]\n",
      " [ 1.46772157]\n",
      " [-0.33247107]\n",
      " [ 3.52895655]]\n"
     ]
    }
   ],
   "source": [
    "X_train, X_test, y_train, y_test = train_test_split(X, y, random_state = 0, test_size = 0.2)\n",
    "print(X_test)\n",
    "print(\"____\")\n",
    "print(X_train)"
   ]
  },
  {
   "cell_type": "markdown",
   "id": "cba0bf70-a96f-4342-8998-5ceac0426198",
   "metadata": {},
   "source": [
    "transform to 3rd degree polynomail"
   ]
  },
  {
   "cell_type": "code",
   "execution_count": 31,
   "id": "51aedef1-2d9e-4d77-a6a2-ac65b8a42f63",
   "metadata": {},
   "outputs": [],
   "source": [
    "poly = PolynomialFeatures(degree = 3)\n",
    "X_train_poly = poly.fit_transform(X_train)\n",
    "X_test_poly = poly.transform(X_test)"
   ]
  },
  {
   "cell_type": "markdown",
   "id": "f9f733ab-ad79-4a14-b58b-132b265b810a",
   "metadata": {},
   "source": [
    "Ridge regression"
   ]
  },
  {
   "cell_type": "code",
   "execution_count": 33,
   "id": "cd133fd8-4bf8-42a2-a57c-d5e7b183eb3b",
   "metadata": {},
   "outputs": [
    {
     "name": "stdout",
     "output_type": "stream",
     "text": [
      "Ridge Regression MSE: 8.734480570726797\n"
     ]
    }
   ],
   "source": [
    "ridge = Ridge(alpha = 1.0)\n",
    "ridge.fit(X_train_poly, y_train)\n",
    "ridge_predict = ridge.predict(X_test_poly)\n",
    "mse_ridge = mean_squared_error(y_test, ridge_predict)\n",
    "print(f\"Ridge Regression MSE: {mse_ridge}\")\n"
   ]
  },
  {
   "cell_type": "markdown",
   "id": "254a25d9-64fc-4871-af19-e8e67e320c30",
   "metadata": {},
   "source": [
    "Lasso Regression"
   ]
  },
  {
   "cell_type": "code",
   "execution_count": 34,
   "id": "edaf0ffd-6eed-46e3-8ba4-61d16e81f0df",
   "metadata": {},
   "outputs": [
    {
     "name": "stdout",
     "output_type": "stream",
     "text": [
      "Lasso Regression MSE: 8.802875124432346\n"
     ]
    }
   ],
   "source": [
    "lasso = Lasso(alpha = 0.1)\n",
    "lasso.fit(X_train_poly, y_train)\n",
    "lasso_predict = lasso.predict(X_test_poly)\n",
    "mse_lasso = mean_squared_error(y_test, lasso_predict)\n",
    "print(f\"Lasso Regression MSE: {mse_lasso}\")"
   ]
  },
  {
   "cell_type": "markdown",
   "id": "359347e5-0572-4dfe-bae8-d2aafc2ba435",
   "metadata": {},
   "source": [
    " Plot the results\n"
   ]
  },
  {
   "cell_type": "code",
   "execution_count": 42,
   "id": "4f1af78d-95d4-44e1-b934-0e0d4a1baa8c",
   "metadata": {},
   "outputs": [
    {
     "data": {
      "image/png": "[encoded data removed]",
      "text/plain": [
       "<Figure size 640x480 with 1 Axes>"
      ]
     },
     "metadata": {},
     "output_type": "display_data"
    }
   ],
   "source": [
    "plt.scatter(X_test, y_test, color = 'red', label = 'Actual Data')\n",
    "plt.plot(X_test, lasso_predict, color = 'blue', label = 'Lasso Regreesion')\n",
    "plt.plot(X_test, ridge_predict, color = 'black', label = 'Ridge Regreesion')\n",
    "plt.legend()\n",
    "plt.show()"
   ]
  },
  {
   "cell_type": "code",
   "execution_count": null,
   "id": "4d0bc005-28e6-4d06-8d07-d4f88ed43bc3",
   "metadata": {},
   "outputs": [],
   "source": []
  }
 ],
 "metadata": {
  "kernelspec": {
   "display_name": "Python 3 (ipykernel)",
   "language": "python",
   "name": "python3"
  },
  "language_info": {
   "codemirror_mode": {
    "name": "ipython",
    "version": 3
   },
   "file_extension": ".py",
   "mimetype": "text/x-python",
   "name": "python",
   "nbconvert_exporter": "python",
   "pygments_lexer": "ipython3",
   "version": "3.12.4"
  }
 },
 "nbformat": 4,
 "nbformat_minor": 5
}
