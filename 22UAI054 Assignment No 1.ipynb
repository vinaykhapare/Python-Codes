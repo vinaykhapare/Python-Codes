{
 "cells": [
  {
   "cell_type": "markdown",
   "metadata": {},
   "source": [
    "# Printing Hello World !"
   ]
  },
  {
   "cell_type": "code",
   "execution_count": 1,
   "metadata": {},
   "outputs": [
    {
     "name": "stdout",
     "output_type": "stream",
     "text": [
      "Hello World!\n"
     ]
    }
   ],
   "source": [
    "#Printing Hello World \n",
    "print(\"Hello World!\")"
   ]
  },
  {
   "cell_type": "markdown",
   "metadata": {},
   "source": [
    "# Printing Addition of Two Number "
   ]
  },
  {
   "cell_type": "code",
   "execution_count": 3,
   "metadata": {},
   "outputs": [
    {
     "name": "stdout",
     "output_type": "stream",
     "text": [
      "The Addition of 5 and 4 is 9\n"
     ]
    }
   ],
   "source": [
    "#Program for the addition of two Numbers \n",
    "#Declare the First Variable \n",
    "a=5\n",
    "#Declare the Sercond Variable\n",
    "b=4\n",
    "#Create a Variable consisting of addition of the Two Variables\n",
    "c=a+b\n",
    "#Priting The Addition \n",
    "print(\"The Addition of\",a,\"and\",b,\"is\",c)"
   ]
  },
  {
   "cell_type": "markdown",
   "metadata": {},
   "source": [
    "# Printing Addition of Two Number Taking User's input"
   ]
  },
  {
   "cell_type": "code",
   "execution_count": 9,
   "metadata": {},
   "outputs": [
    {
     "name": "stdout",
     "output_type": "stream",
     "text": [
      "Enter the First Number:5\n",
      "Enter the Second Number:4\n",
      "The Addition of 5 and 4 is 9\n"
     ]
    }
   ],
   "source": [
    "#Program for the addition of two Numbers user taken values\n",
    "#Declare the First Variable \n",
    "a=int(input(\"Enter the First Number:\"))\n",
    "#Declare the Second Variable\n",
    "b=int(input(\"Enter the Second Number:\"))\n",
    "#Create a Variable consisting of addition of the Two Variables\n",
    "c=a+b\n",
    "#Priting The Addition \n",
    "print(\"The Addition of\",a,\"and\",b,\"is\",c)"
   ]
  },
  {
   "cell_type": "markdown",
   "metadata": {},
   "source": [
    "# Addition of the Two Complex Numbers "
   ]
  },
  {
   "cell_type": "code",
   "execution_count": 11,
   "metadata": {},
   "outputs": [
    {
     "name": "stdout",
     "output_type": "stream",
     "text": [
      "The Addition of (2+4j) and (4+5j) is (6+9j)\n"
     ]
    }
   ],
   "source": [
    "#Program for the addition of the two Complex Numbers \n",
    "#first complex number \n",
    "a=complex(2,4)\n",
    "#Second complex number \n",
    "b=complex(4,5)\n",
    "#addtion of the two complex number \n",
    "c=a+b\n",
    "#printing the addition of the two numbers \n",
    "print(\"The Addition of\",a,\"and\",b,\"is\",c)"
   ]
  },
  {
   "cell_type": "markdown",
   "metadata": {},
   "source": [
    "# Addition of the Two complex number User taken "
   ]
  },
  {
   "cell_type": "code",
   "execution_count": 8,
   "metadata": {},
   "outputs": [
    {
     "name": "stdin",
     "output_type": "stream",
     "text": [
      "Enter the First Complex Number: 4+5j\n",
      "Enter the second complex Number: 4+3j\n"
     ]
    },
    {
     "name": "stdout",
     "output_type": "stream",
     "text": [
      "The Addition of (4+5j) and (4+3j) is (8+8j)\n"
     ]
    }
   ],
   "source": [
    "#Program for the addition of the two Complex Numbers \n",
    "#first complex number \n",
    "a=complex(input(\"Enter the First Complex Number:\"))\n",
    "#Second complex number \n",
    "b=complex(input(\"Enter the second complex Number:\"))\n",
    "#addtion of the two complex number \n",
    "c=a+b\n",
    "#printing the addition of the two numbers \n",
    "print(\"The Addition of\",a,\"and\",b,\"is\",c)"
   ]
  },
  {
   "cell_type": "markdown",
   "metadata": {},
   "source": [
    "# Finding Area of triangle by Taking the user Input"
   ]
  },
  {
   "cell_type": "code",
   "execution_count": 12,
   "metadata": {},
   "outputs": [
    {
     "name": "stdin",
     "output_type": "stream",
     "text": [
      "Enter the Base:  4\n",
      "Enter the Height:  5\n"
     ]
    },
    {
     "name": "stdout",
     "output_type": "stream",
     "text": [
      "Area of Triangle is: 10.0\n"
     ]
    }
   ],
   "source": [
    "#Finding the Area of triangle \n",
    "#Taking the base \n",
    "b=float(input(\"Enter the Base: \"))\n",
    "# Taking the Height Of the Triangle\n",
    "h=float(input(\"Enter the Height: \"))\n",
    "a=1/2*b*h\n",
    "print(\"Area of Triangle is:\",a)"
   ]
  },
  {
   "cell_type": "markdown",
   "metadata": {},
   "source": [
    "# Finding the Area of Rectangle"
   ]
  },
  {
   "cell_type": "code",
   "execution_count": 18,
   "metadata": {},
   "outputs": [
    {
     "name": "stdin",
     "output_type": "stream",
     "text": [
      "Entger the Length: 5\n",
      "Enter the Width: 6\n"
     ]
    },
    {
     "name": "stdout",
     "output_type": "stream",
     "text": [
      "The Area of the Rectangle is: 30.0\n"
     ]
    }
   ],
   "source": [
    "#Finding the Area of rectangle\n",
    "#Taking the Length of rectangle\n",
    "l=float(input(\"Entger the Length:\"))\n",
    "#Taking the Width of the rectangle\n",
    "w=float(input(\"Enter the Width:\"))\n",
    "a=l*w\n",
    "print(\"The Area of the Rectangle is:\",a)"
   ]
  },
  {
   "cell_type": "markdown",
   "metadata": {},
   "source": [
    "# Finding the Area of the Circle"
   ]
  },
  {
   "cell_type": "code",
   "execution_count": 23,
   "metadata": {},
   "outputs": [
    {
     "name": "stdin",
     "output_type": "stream",
     "text": [
      "Enter the Radius: 5\n"
     ]
    },
    {
     "name": "stdout",
     "output_type": "stream",
     "text": [
      "Area of the Circle is: 25.0\n"
     ]
    }
   ],
   "source": [
    "# Finding the Area of the Circle\n",
    "# Taking the Radius of the Circle\n",
    "r=float(input(\"Enter the Radius:\"))\n",
    "#Calculating the Area of the Circle\n",
    "a=r*r\n",
    "print(\"Area of the Circle is:\",a)"
   ]
  },
  {
   "cell_type": "markdown",
   "metadata": {},
   "source": [
    "# List"
   ]
  },
  {
   "cell_type": "code",
   "execution_count": 25,
   "metadata": {},
   "outputs": [
    {
     "name": "stdout",
     "output_type": "stream",
     "text": [
      "['a', 'b', 'c', 'd']\n",
      "<class 'list'>\n"
     ]
    }
   ],
   "source": [
    "#list is the Data Type Consisting of the different Variables \n",
    "#List is Mutable Data Type \n",
    "#creating the list\n",
    "list=['a','b','c','d']\n",
    "print(list)\n",
    "print(type(list))"
   ]
  },
  {
   "cell_type": "markdown",
   "metadata": {},
   "source": [
    "# Creating the List and Performing Various Operations"
   ]
  },
  {
   "cell_type": "markdown",
   "metadata": {},
   "source": [
    "# Insert Operation on List"
   ]
  },
  {
   "cell_type": "code",
   "execution_count": 16,
   "metadata": {},
   "outputs": [
    {
     "name": "stdout",
     "output_type": "stream",
     "text": [
      "['x', 'y', 'z']\n",
      "['x', 'a', 'y', 'z']\n"
     ]
    }
   ],
   "source": [
    "# Creating a list \n",
    "l=['x','y','z']\n",
    "print(l)\n",
    "\n",
    "#Insert()\n",
    "#inserting the 'a' variable at the index 1\n",
    "l.insert(1,'a')\n",
    "print(l)\n"
   ]
  },
  {
   "cell_type": "markdown",
   "metadata": {},
   "source": [
    "# Append Operation on the List"
   ]
  },
  {
   "cell_type": "code",
   "execution_count": 14,
   "metadata": {},
   "outputs": [
    {
     "name": "stdout",
     "output_type": "stream",
     "text": [
      "['x', 'y', 'z']\n",
      "['x', 'y', 'z', 'b']\n"
     ]
    }
   ],
   "source": [
    "# Creating a list \n",
    "l=['x','y','z']\n",
    "print(l)\n",
    "\n",
    "#Append()\n",
    "#Append the 'b' variable \n",
    "l.append('b')\n",
    "print(l)"
   ]
  },
  {
   "cell_type": "markdown",
   "metadata": {},
   "source": [
    "# Extend Operation on the List"
   ]
  },
  {
   "cell_type": "code",
   "execution_count": 30,
   "metadata": {},
   "outputs": [
    {
     "name": "stdout",
     "output_type": "stream",
     "text": [
      "['x', 'y', 'z']\n",
      "['x', 'y', 'z', 'c', 'd']\n"
     ]
    }
   ],
   "source": [
    "# Creating a list \n",
    "l=['x','y','z']\n",
    "print(l)\n",
    "\n",
    "#Extend()\n",
    "#Extend the List\n",
    "l.extend(['c','d'])\n",
    "print(l)\n"
   ]
  },
  {
   "cell_type": "markdown",
   "metadata": {},
   "source": [
    "# Remove Operation on List"
   ]
  },
  {
   "cell_type": "code",
   "execution_count": 28,
   "metadata": {},
   "outputs": [
    {
     "name": "stdout",
     "output_type": "stream",
     "text": [
      "['x', 'y', 'z']\n",
      "['y', 'z']\n"
     ]
    }
   ],
   "source": [
    "# Creating a list \n",
    "l=['x','y','z']\n",
    "print(l)\n",
    "#1.Insert()\n",
    "\n",
    "#Remove\n",
    "#Removing the 'a' variable\n",
    "l.remove('x')\n",
    "print(l)\n"
   ]
  },
  {
   "cell_type": "markdown",
   "metadata": {},
   "source": [
    "# Pop Operation On List"
   ]
  },
  {
   "cell_type": "code",
   "execution_count": 22,
   "metadata": {},
   "outputs": [
    {
     "name": "stdout",
     "output_type": "stream",
     "text": [
      "['x', 'y', 'z']\n",
      "['x', 'y']\n"
     ]
    }
   ],
   "source": [
    "# Creating a list \n",
    "l=['x','y','z']\n",
    "print(l)\n",
    "\n",
    "#Pop\n",
    "#Pop the Variable(It means that the last element is get removed from the list)\n",
    "l.pop()\n",
    "print(l)"
   ]
  },
  {
   "cell_type": "markdown",
   "metadata": {},
   "source": [
    "# Slice Operation on List"
   ]
  },
  {
   "cell_type": "code",
   "execution_count": 32,
   "metadata": {},
   "outputs": [
    {
     "name": "stdout",
     "output_type": "stream",
     "text": [
      "['x', 'y', 'z']\n",
      "['y', 'z']\n"
     ]
    }
   ],
   "source": [
    "# Creating a list \n",
    "l=['x','y','z']\n",
    "print(l)\n",
    "\n",
    "#Slice\n",
    "#Slicing the elment \n",
    "#considerinig the elements and giving section of the list\n",
    "print(l[1:4])"
   ]
  },
  {
   "cell_type": "markdown",
   "metadata": {},
   "source": [
    "# Reverse Operation on List"
   ]
  },
  {
   "cell_type": "code",
   "execution_count": null,
   "metadata": {},
   "outputs": [],
   "source": [
    "Creating a list \n",
    "l=['x','y','z']\n",
    "print(l)\n",
    "\n",
    "#Reverse \n",
    "#Reversing the List\n",
    "l.reverse()\n",
    "print(l)"
   ]
  },
  {
   "cell_type": "markdown",
   "metadata": {},
   "source": [
    "# Length of List, Minimum value of List, Maximum value of List"
   ]
  },
  {
   "cell_type": "code",
   "execution_count": 61,
   "metadata": {},
   "outputs": [
    {
     "name": "stdout",
     "output_type": "stream",
     "text": [
      "[1, 2, 3, 4, 5, 6]\n",
      "6\n",
      "1\n",
      "6\n"
     ]
    }
   ],
   "source": [
    "#Creating a list \n",
    "l=[1,2,3,4,5,6]\n",
    "print(l)\n",
    "\n",
    "#Length of the List\n",
    "print(len(l))\n",
    "\n",
    "#Minimum value of List\n",
    "print(min(l))\n",
    "\n",
    "#Maximum Value of List\n",
    "print(max(l))"
   ]
  },
  {
   "cell_type": "markdown",
   "metadata": {},
   "source": [
    "# Count operation on List"
   ]
  },
  {
   "cell_type": "code",
   "execution_count": 68,
   "metadata": {},
   "outputs": [
    {
     "name": "stdout",
     "output_type": "stream",
     "text": [
      "[10, 20, 30, 10, 20]\n",
      "2\n"
     ]
    }
   ],
   "source": [
    "#Create a List\n",
    "l=[10,20,30,10,20]\n",
    "print(l)\n",
    "\n",
    "#Count the Total Number in List\n",
    "print(l.count(10))"
   ]
  },
  {
   "cell_type": "markdown",
   "metadata": {},
   "source": [
    "# Concentrate Operation on  List"
   ]
  },
  {
   "cell_type": "code",
   "execution_count": null,
   "metadata": {},
   "outputs": [],
   "source": [
    "# Create a Fisrt List\n",
    "a=[1,2,3,4]\n",
    "#Create a Second List\n",
    "b=[10,20,30,40]\n",
    "#Create a New list that holds the Concentrated List\n",
    "c=a+b\n",
    "print(c)"
   ]
  },
  {
   "cell_type": "markdown",
   "metadata": {},
   "source": [
    "# Multiply Operation on the list"
   ]
  },
  {
   "cell_type": "code",
   "execution_count": 43,
   "metadata": {},
   "outputs": [
    {
     "name": "stdout",
     "output_type": "stream",
     "text": [
      "[100, 200, 300, 100, 200, 300, 100, 200, 300, 100, 200, 300]\n"
     ]
    }
   ],
   "source": [
    "# Create a List\n",
    "l=[100,200,300]\n",
    "#Create a Another list consiting of the Multiple we want\n",
    "x=l*4\n",
    "print(x)"
   ]
  },
  {
   "cell_type": "markdown",
   "metadata": {},
   "source": [
    "# Index Operation on the list"
   ]
  },
  {
   "cell_type": "code",
   "execution_count": 121,
   "metadata": {},
   "outputs": [
    {
     "name": "stdout",
     "output_type": "stream",
     "text": [
      "4\n",
      "2\n",
      "0\n"
     ]
    }
   ],
   "source": [
    "#Crete a list \n",
    "a=[4,5,6,7,8,9]\n",
    "print(a.index(8))\n",
    "print(a.index(6))\n",
    "print(a.index(4))"
   ]
  },
  {
   "cell_type": "markdown",
   "metadata": {},
   "source": [
    "# Sort operation on the list"
   ]
  },
  {
   "cell_type": "code",
   "execution_count": 66,
   "metadata": {},
   "outputs": [
    {
     "name": "stdout",
     "output_type": "stream",
     "text": [
      "[2, 4, 9, 11, 12, 23, 45, 56, 87, 98]\n"
     ]
    }
   ],
   "source": [
    "# Create a list\n",
    "x=[4,45,23,87,9,12,56,11,2,98]\n",
    "x.sort()\n",
    "print(x)"
   ]
  },
  {
   "cell_type": "markdown",
   "metadata": {},
   "source": [
    "# Clear Operation on list"
   ]
  },
  {
   "cell_type": "code",
   "execution_count": 72,
   "metadata": {},
   "outputs": [
    {
     "name": "stdout",
     "output_type": "stream",
     "text": [
      "[]\n"
     ]
    }
   ],
   "source": [
    "# Crete a List\n",
    "x=[10,20,30,40,50]\n",
    "x.clear()\n",
    "print(x)"
   ]
  },
  {
   "cell_type": "markdown",
   "metadata": {},
   "source": [
    "# Tuple "
   ]
  },
  {
   "cell_type": "code",
   "execution_count": 81,
   "metadata": {},
   "outputs": [
    {
     "name": "stdout",
     "output_type": "stream",
     "text": [
      "(1, 2, 3)\n",
      "<class 'tuple'>\n"
     ]
    }
   ],
   "source": [
    "#Tuple\n",
    "#A type of data structure that is very similar to lists. \n",
    "#The main difference between the two is that tuples are immutable\n",
    "t=(1,2,3)\n",
    "print(t)\n",
    "print(type(t))"
   ]
  },
  {
   "cell_type": "markdown",
   "metadata": {},
   "source": [
    "# Creating Empty Tuple"
   ]
  },
  {
   "cell_type": "code",
   "execution_count": 90,
   "metadata": {},
   "outputs": [
    {
     "name": "stdout",
     "output_type": "stream",
     "text": [
      "()\n",
      "<class 'tuple'>\n"
     ]
    }
   ],
   "source": [
    "# Crete a Tuple Consiting of None Elements\n",
    "a=()\n",
    "print(a)\n",
    "print(type(a))"
   ]
  },
  {
   "cell_type": "markdown",
   "metadata": {},
   "source": [
    "# Creating a tuple using String\n"
   ]
  },
  {
   "cell_type": "code",
   "execution_count": 99,
   "metadata": {},
   "outputs": [
    {
     "name": "stdout",
     "output_type": "stream",
     "text": [
      "('Vinay', 'Khapare')\n"
     ]
    }
   ],
   "source": [
    "# Creating a Tuple\n",
    "# with the use of string\n",
    "Tuple1 = ('Vinay', 'Khapare')\n",
    "print(Tuple1)"
   ]
  },
  {
   "cell_type": "markdown",
   "metadata": {},
   "source": [
    "# Creating a Tuple using List"
   ]
  },
  {
   "cell_type": "code",
   "execution_count": 107,
   "metadata": {},
   "outputs": [
    {
     "name": "stdout",
     "output_type": "stream",
     "text": [
      "(1, 2, 4, 5, 6)\n"
     ]
    }
   ],
   "source": [
    "# Creating a Tuple with\n",
    "# the use of list\n",
    "list1 = [1, 2, 4, 5, 6]\n",
    "print(tuple(list1))"
   ]
  },
  {
   "cell_type": "markdown",
   "metadata": {},
   "source": [
    "# Creating a Tuple using Build-in Function"
   ]
  },
  {
   "cell_type": "code",
   "execution_count": 26,
   "metadata": {},
   "outputs": [
    {
     "name": "stdout",
     "output_type": "stream",
     "text": [
      "('V', 'i', 'n', 'a', 'y')\n"
     ]
    }
   ],
   "source": [
    "# Creating a Tuple\n",
    "# with the use of built-in function\n",
    "Tuple1 = tuple('Vinay')\n",
    "print(Tuple1)"
   ]
  },
  {
   "cell_type": "markdown",
   "metadata": {},
   "source": [
    "# String"
   ]
  },
  {
   "cell_type": "markdown",
   "metadata": {},
   "source": [
    "## Performing the Different Operation On the string"
   ]
  },
  {
   "cell_type": "markdown",
   "metadata": {},
   "source": [
    "## Creating the String Using single Quote"
   ]
  },
  {
   "cell_type": "code",
   "execution_count": 34,
   "metadata": {},
   "outputs": [
    {
     "name": "stdout",
     "output_type": "stream",
     "text": [
      "This is My Project\n"
     ]
    }
   ],
   "source": [
    "#Create a String using single Quote\n",
    "s='This is My Project'\n",
    "print(s)"
   ]
  },
  {
   "cell_type": "markdown",
   "metadata": {},
   "source": [
    "## Creating the String Using Double Quote"
   ]
  },
  {
   "cell_type": "code",
   "execution_count": 48,
   "metadata": {},
   "outputs": [
    {
     "name": "stdout",
     "output_type": "stream",
     "text": [
      "This my Project\n"
     ]
    }
   ],
   "source": [
    "#Create a String Using Double Quote\n",
    "s=\"This my Project\"\n",
    "print(s)"
   ]
  },
  {
   "cell_type": "markdown",
   "metadata": {},
   "source": [
    "## Creating the String Using Three Quote "
   ]
  },
  {
   "cell_type": "code",
   "execution_count": 62,
   "metadata": {},
   "outputs": [
    {
     "name": "stdout",
     "output_type": "stream",
     "text": [
      " This \n",
      "    is \n",
      "    My Project\n"
     ]
    }
   ],
   "source": [
    "# Create the string using Three Quote\n",
    "s=''' This \n",
    "    is \n",
    "    My Project'''\n",
    "print(s)"
   ]
  },
  {
   "cell_type": "markdown",
   "metadata": {},
   "source": [
    "## String Positive Indexing"
   ]
  },
  {
   "cell_type": "code",
   "execution_count": 71,
   "metadata": {},
   "outputs": [
    {
     "name": "stdout",
     "output_type": "stream",
     "text": [
      "i\n",
      "s\n",
      "y\n",
      "r\n"
     ]
    }
   ],
   "source": [
    "#Creating the String \n",
    "s=\"This is My Project\"\n",
    "print(s[5])\n",
    "print(s[6])\n",
    "print(s[9])\n",
    "print(s[12])"
   ]
  },
  {
   "cell_type": "markdown",
   "metadata": {},
   "source": [
    "## String Negative Indexing"
   ]
  },
  {
   "cell_type": "code",
   "execution_count": 82,
   "metadata": {},
   "outputs": [
    {
     "name": "stdout",
     "output_type": "stream",
     "text": [
      "t\n",
      "j\n",
      "P\n",
      "M\n"
     ]
    }
   ],
   "source": [
    "# Create a String \n",
    "s=\"This is My Project\"\n",
    "print(s[-1])\n",
    "print(s[-4])\n",
    "print(s[-7])\n",
    "print(s[-10])"
   ]
  },
  {
   "cell_type": "markdown",
   "metadata": {},
   "source": [
    "## String Slicing"
   ]
  },
  {
   "cell_type": "code",
   "execution_count": 93,
   "metadata": {},
   "outputs": [
    {
     "name": "stdout",
     "output_type": "stream",
     "text": [
      "his \n",
      " is My P\n",
      "s is\n",
      "is is \n"
     ]
    }
   ],
   "source": [
    "#Create a String\n",
    "s=\"This is My Project\"\n",
    "print(s[1:5])\n",
    "print(s[4:12])\n",
    "print(s[3:7])\n",
    "print(s[2:8])"
   ]
  },
  {
   "cell_type": "markdown",
   "metadata": {},
   "source": [
    "## String Reversed"
   ]
  },
  {
   "cell_type": "code",
   "execution_count": 103,
   "metadata": {},
   "outputs": [
    {
     "name": "stdout",
     "output_type": "stream",
     "text": [
      "yaniV\n"
     ]
    }
   ],
   "source": [
    "#Create a String\n",
    "a=\"Vinay\"\n",
    "print(a[::-1])"
   ]
  },
  {
   "cell_type": "markdown",
   "metadata": {},
   "source": [
    "## Building Reverse String"
   ]
  },
  {
   "cell_type": "code",
   "execution_count": 109,
   "metadata": {},
   "outputs": [
    {
     "name": "stdout",
     "output_type": "stream",
     "text": [
      "anhsirK\n"
     ]
    }
   ],
   "source": [
    "# Program to reverse a string\n",
    "a = \"Krishna\"\n",
    "# Reverse the string using reversed and join function\n",
    "a = \"\".join(reversed(a))\n",
    "print(a)"
   ]
  },
  {
   "cell_type": "markdown",
   "metadata": {},
   "source": [
    "## Update the String"
   ]
  },
  {
   "cell_type": "code",
   "execution_count": 118,
   "metadata": {},
   "outputs": [
    {
     "name": "stdout",
     "output_type": "stream",
     "text": [
      "Initial String: \n",
      "Bharat\n",
      "\n",
      "After Updating 2nd Index: \n",
      "Bhprat\n"
     ]
    }
   ],
   "source": [
    "# Python Program to Update\n",
    "# character of a String\n",
    "s = \"Bharat\"\n",
    "print(\"Initial String: \")\n",
    "print(s)\n",
    "# Updating a character of the String\n",
    "# As python strings are immutable, they don't support item updation directly\n",
    "print(\"\\nAfter Updating 2nd Index: \")\n",
    "s1 = s[0:2] + 'p' + s[3:]\n",
    "print(s1)\n"
   ]
  },
  {
   "cell_type": "markdown",
   "metadata": {},
   "source": [
    "## Update the Entire String"
   ]
  },
  {
   "cell_type": "code",
   "execution_count": 128,
   "metadata": {},
   "outputs": [
    {
     "name": "stdout",
     "output_type": "stream",
     "text": [
      "Initial String :\n",
      "My name is Vinay\n",
      "After the Passing String:\n",
      "I am From Gadhinglaj\n"
     ]
    }
   ],
   "source": [
    "# Program to Update the Entire String \n",
    "s=\"My name is Vinay\"\n",
    "print(\"Initial String :\")\n",
    "print(s)\n",
    "\n",
    "# Pass the String you want to Enter \n",
    "s=\"I am From Gadhinglaj\"\n",
    "print(\"After the Passing String:\")\n",
    "print(s)"
   ]
  },
  {
   "cell_type": "markdown",
   "metadata": {},
   "source": [
    "## Deleting the Character From the String"
   ]
  },
  {
   "cell_type": "code",
   "execution_count": 151,
   "metadata": {},
   "outputs": [
    {
     "name": "stdout",
     "output_type": "stream",
     "text": [
      "Initial String:\n",
      "I Love my Country\n",
      "String After the Deletion of the Element:\n",
      "I Lve my Country\n"
     ]
    }
   ],
   "source": [
    "# Create the String \n",
    "s = \"I Love my Country\"\n",
    "print(\"Initial String:\")\n",
    "print(s)\n",
    "\n",
    "# Attempting to delete elements from the string\n",
    "print(\"String After the Deletion of the Element:\")\n",
    "\n",
    "# Remove the character at index 3\n",
    "s = s[:3] + s[4:]\n",
    "print(s)\n"
   ]
  },
  {
   "cell_type": "markdown",
   "metadata": {},
   "source": [
    "## String Formating"
   ]
  },
  {
   "cell_type": "code",
   "execution_count": 162,
   "metadata": {},
   "outputs": [
    {
     "name": "stdout",
     "output_type": "stream",
     "text": [
      "Print String in default order: \n",
      "How Are You\n",
      "\n",
      "Print String in Positional order: \n",
      "Are How You\n"
     ]
    }
   ],
   "source": [
    "# Python Program for\n",
    "# Formatting of Strings\n",
    "\n",
    "# Default order\n",
    "s = \"{} {} {}\".format('How', 'Are', 'You')\n",
    "print(\"Print String in default order: \")\n",
    "print(s)\n",
    "# Positional Formatting\n",
    "s = \"{1} {0} {2}\".format('How', 'Are', 'You')\n",
    "print(\"\\nPrint String in Positional order: \")\n",
    "print(s)"
   ]
  },
  {
   "cell_type": "markdown",
   "metadata": {},
   "source": [
    "## Binary, Hexadecimal Representation "
   ]
  },
  {
   "cell_type": "code",
   "execution_count": 166,
   "metadata": {},
   "outputs": [
    {
     "name": "stdout",
     "output_type": "stream",
     "text": [
      "Binary representation: \n",
      "1010\n",
      "Exponent representation: \n",
      "1.212356e+02\n",
      "one-ninth is: \n",
      "0.11\n"
     ]
    }
   ],
   "source": [
    "# Formatting of Integers\n",
    "x = \"{0:b}\".format(10)\n",
    "print(\"Binary representation: \")\n",
    "print(x)\n",
    "\n",
    "# Formatting of Floats\n",
    "x = \"{0:e}\".format(121.2356)\n",
    "print(\"Exponent representation: \")\n",
    "print(x)\n",
    "\n",
    "# Rounding off Integers\n",
    "x = \"{0:.2f}\".format(1/9)\n",
    "print(\"one-ninth is: \")\n",
    "print(x)\n"
   ]
  }
 ],
 "metadata": {
  "kernelspec": {
   "display_name": "Python 3 (ipykernel)",
   "language": "python",
   "name": "python3"
  },
  "language_info": {
   "codemirror_mode": {
    "name": "ipython",
    "version": 3
   },
   "file_extension": ".py",
   "mimetype": "text/x-python",
   "name": "python",
   "nbconvert_exporter": "python",
   "pygments_lexer": "ipython3",
   "version": "3.11.7"
  }
 },
 "nbformat": 4,
 "nbformat_minor": 4
}
