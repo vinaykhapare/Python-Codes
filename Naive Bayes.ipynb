{
 "cells": [
  {
   "cell_type": "markdown",
   "metadata": {},
   "source": [
    "# Naive Bayes"
   ]
  },
  {
   "cell_type": "code",
   "execution_count": 1,
   "metadata": {},
   "outputs": [
    {
     "name": "stdout",
     "output_type": "stream",
     "text": [
      "     Outlook Temperature Humidity  Windy Play_Golf\n",
      "0      Rainy         Hot     High  False        No\n",
      "1      Rainy         Hot     High   True        No\n",
      "2   Overcast         Hot     High  False       Yes\n",
      "3      Sunny        Mild     High  False       Yes\n",
      "4      Sunny        Cool   Normal  False       Yes\n",
      "5      Sunny        Cool   Normal   True        No\n",
      "6   Overcast        Cool   Normal   True       Yes\n",
      "7      Rainy        Mild     High  False        No\n",
      "8      Rainy        Cool   Normal  False       Yes\n",
      "9      Sunny        Mild   Normal  False       Yes\n",
      "10     Rainy        Mild   Normal   True       Yes\n",
      "11  Overcast        Mild     High   True       Yes\n",
      "12  Overcast         Hot   Normal  False       Yes\n",
      "13     Sunny        Mild     High   True        No\n",
      "X Part :\n",
      " [['Rainy' 'Hot' 'High' False]\n",
      " ['Rainy' 'Hot' 'High' True]\n",
      " ['Overcast' 'Hot' 'High' False]\n",
      " ['Sunny' 'Mild' 'High' False]\n",
      " ['Sunny' 'Cool' 'Normal' False]\n",
      " ['Sunny' 'Cool' 'Normal' True]\n",
      " ['Overcast' 'Cool' 'Normal' True]\n",
      " ['Rainy' 'Mild' 'High' False]\n",
      " ['Rainy' 'Cool' 'Normal' False]\n",
      " ['Sunny' 'Mild' 'Normal' False]\n",
      " ['Rainy' 'Mild' 'Normal' True]\n",
      " ['Overcast' 'Mild' 'High' True]\n",
      " ['Overcast' 'Hot' 'Normal' False]\n",
      " ['Sunny' 'Mild' 'High' True]]\n",
      "Y Part :\n",
      " ['No' 'No' 'Yes' 'Yes' 'Yes' 'No' 'Yes' 'No' 'Yes' 'Yes' 'Yes' 'Yes' 'Yes'\n",
      " 'No']\n",
      "Entropy of the Play_Golf : 0.9402859586706311\n",
      "Information Gain for each attribute:\n",
      "Outlook: 0.24674981977443933\n",
      "Temperature: 0.02922256565895487\n",
      "Humidity: 0.15183550136234159\n",
      "Windy: 0.04812703040826949\n",
      "Root Node: Outlook\n"
     ]
    }
   ],
   "source": [
    "import numpy as np\n",
    "import pandas as pd\n",
    "\n",
    "df = pd.read_csv('cricket.csv')\n",
    "print(df)\n",
    "\n",
    "x = df.iloc[ :, :-1].values\n",
    "y = df.iloc[ :, -1].values\n",
    "print('X Part :\\n',x)\n",
    "print('Y Part :\\n',y)\n",
    "\n",
    "def entropy(y):\n",
    "    elements, counts = np.unique(y, return_counts=True)\n",
    "    entropy_val = -sum((counts[i]/np.sum(counts)) * np.log2(counts[i]/np.sum(counts)) for i in range(len(elements)))\n",
    "    return entropy_val\n",
    "\n",
    "print('Entropy of the Play_Golf :',entropy(y))\n",
    "\n",
    "def info_gain(df, split_attribute_name, target_name=\"Play_Golf\"):\n",
    "    total_entropy = entropy(df[target_name])\n",
    "    \n",
    "    vals, counts = np.unique(df[split_attribute_name], return_counts=True)\n",
    "    \n",
    "    weighted_entropy = sum(\n",
    "        (counts[i] / np.sum(counts)) * entropy(df[df[split_attribute_name] == vals[i]][target_name])\n",
    "        for i in range(len(vals))\n",
    "    )    \n",
    "    information_gain = total_entropy - weighted_entropy\n",
    "    return information_gain\n",
    "\n",
    "\n",
    "def find_root_node(df, target_name=\"Play_Golf\"):\n",
    "    attributes = df.columns[df.columns != target_name]\n",
    "    info_gains = {attr: info_gain(df, attr, target_name) for attr in attributes}\n",
    "    root_node = max(info_gains, key=info_gains.get)\n",
    "    return root_node, info_gains\n",
    "\n",
    "root_node, info_gains = find_root_node(df)\n",
    "print('Information Gain for each attribute:')\n",
    "for attr, gain in info_gains.items():\n",
    "    print(f'{attr}: {gain}')\n",
    "print(f'Root Node: {root_node}')"
   ]
  },
  {
   "cell_type": "code",
   "execution_count": null,
   "metadata": {},
   "outputs": [],
   "source": []
  }
 ],
 "metadata": {
  "kernelspec": {
   "display_name": "Python 3",
   "language": "python",
   "name": "python3"
  },
  "language_info": {
   "codemirror_mode": {
    "name": "ipython",
    "version": 3
   },
   "file_extension": ".py",
   "mimetype": "text/x-python",
   "name": "python",
   "nbconvert_exporter": "python",
   "pygments_lexer": "ipython3",
   "version": "3.8.5"
  }
 },
 "nbformat": 4,
 "nbformat_minor": 4
}
